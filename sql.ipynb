{
 "cells": [
  {
   "cell_type": "code",
   "execution_count": 151,
   "id": "664695e6",
   "metadata": {},
   "outputs": [],
   "source": [
    "#pip install pypyodbc"
   ]
  },
  {
   "cell_type": "markdown",
   "id": "6ae67a47",
   "metadata": {},
   "source": [
    "#   Uploading csv files to ssms"
   ]
  },
  {
   "cell_type": "code",
   "execution_count": 152,
   "id": "2fed35a9",
   "metadata": {},
   "outputs": [],
   "source": [
    "import pypyodbc  as odbc\n",
    "import pandas as pd"
   ]
  },
  {
   "cell_type": "code",
   "execution_count": 153,
   "id": "29cd5acf",
   "metadata": {},
   "outputs": [],
   "source": [
    "#pip install pyodbc\n"
   ]
  },
  {
   "cell_type": "code",
   "execution_count": 154,
   "id": "b0155d2c",
   "metadata": {},
   "outputs": [
    {
     "name": "stdout",
     "output_type": "stream",
     "text": [
      "['SQL Server', 'Microsoft Access Driver (*.mdb, *.accdb)', 'Microsoft Excel Driver (*.xls, *.xlsx, *.xlsm, *.xlsb)', 'Microsoft Access Text Driver (*.txt, *.csv)', 'ODBC Driver 17 for SQL Server']\n"
     ]
    }
   ],
   "source": [
    "import pyodbc\n",
    "print(pyodbc.drivers())\n"
   ]
  },
  {
   "cell_type": "markdown",
   "id": "cfcf1b25",
   "metadata": {},
   "source": [
    "# connecting the ssms to python"
   ]
  },
  {
   "cell_type": "code",
   "execution_count": 155,
   "id": "e06df31e",
   "metadata": {},
   "outputs": [
    {
     "name": "stdout",
     "output_type": "stream",
     "text": [
      "Error: ('42000', \"[42000] [Microsoft][ODBC Driver 17 for SQL Server][SQL Server]Database 'pythonscenario' already exists. Choose a different database name. (1801) (SQLExecDirectW)\")\n"
     ]
    }
   ],
   "source": [
    "import pyodbc\n",
    "\n",
    "try:\n",
    "    # Set autocommit=True to avoid wrapping in a transaction\n",
    "    conn = pyodbc.connect(\n",
    "        \"DRIVER={ODBC Driver 17 for SQL Server};\"\n",
    "        \"SERVER=DESKTOP-4H1OBGV\\\\MSSQLSERVER1;\"\n",
    "        \"Trusted_Connection=yes;\",\n",
    "        autocommit=True\n",
    "    )\n",
    "\n",
    "    cursor = conn.cursor()\n",
    "    cursor.execute(\"CREATE DATABASE pythonscenario\")\n",
    "    print(\"Database created successfully\")\n",
    "\n",
    "except Exception as e:\n",
    "    print(\"Error:\", e)\n"
   ]
  },
  {
   "cell_type": "code",
   "execution_count": 156,
   "id": "b6033aeb",
   "metadata": {},
   "outputs": [
    {
     "name": "stdout",
     "output_type": "stream",
     "text": [
      "customer_id                   int64\n",
      "name                         object\n",
      "email                        object\n",
      "phone                        object\n",
      "address                      object\n",
      "registration_date    datetime64[ns]\n",
      "loyalty_status               object\n",
      "country_code                 object\n",
      "CallingCode                   int64\n",
      "dtype: object\n",
      "0   2025-01-25\n",
      "1   2023-07-13\n",
      "2   2023-08-18\n",
      "3   2024-12-08\n",
      "4   2024-02-03\n",
      "Name: registration_date, dtype: datetime64[ns]\n"
     ]
    }
   ],
   "source": [
    "import pandas as pd\n",
    "\n",
    "df = pd.read_csv(\"Test3.csv\")\n",
    "\n",
    "df['registration_date'] = pd.to_datetime(df['registration_date'], format=\"%d-%m-%Y\")\n",
    "\n",
    "\n",
    "print(df.dtypes)\n",
    "print(df['registration_date'].head())\n"
   ]
  },
  {
   "cell_type": "code",
   "execution_count": 157,
   "id": "f35d6198",
   "metadata": {},
   "outputs": [
    {
     "data": {
      "text/html": [
       "<div>\n",
       "<style scoped>\n",
       "    .dataframe tbody tr th:only-of-type {\n",
       "        vertical-align: middle;\n",
       "    }\n",
       "\n",
       "    .dataframe tbody tr th {\n",
       "        vertical-align: top;\n",
       "    }\n",
       "\n",
       "    .dataframe thead th {\n",
       "        text-align: right;\n",
       "    }\n",
       "</style>\n",
       "<table border=\"1\" class=\"dataframe\">\n",
       "  <thead>\n",
       "    <tr style=\"text-align: right;\">\n",
       "      <th></th>\n",
       "      <th>customer_id</th>\n",
       "      <th>name</th>\n",
       "      <th>email</th>\n",
       "      <th>phone</th>\n",
       "      <th>address</th>\n",
       "      <th>registration_date</th>\n",
       "      <th>loyalty_status</th>\n",
       "      <th>country_code</th>\n",
       "      <th>CallingCode</th>\n",
       "    </tr>\n",
       "  </thead>\n",
       "  <tbody>\n",
       "    <tr>\n",
       "      <th>0</th>\n",
       "      <td>1</td>\n",
       "      <td>Michelle Kidd</td>\n",
       "      <td>vayala@example.net</td>\n",
       "      <td>+971-6197234258</td>\n",
       "      <td>USNS Santiago, FPO AE 80872</td>\n",
       "      <td>2025-01-25</td>\n",
       "      <td>Gold</td>\n",
       "      <td>AE</td>\n",
       "      <td>971</td>\n",
       "    </tr>\n",
       "    <tr>\n",
       "      <th>1</th>\n",
       "      <td>2</td>\n",
       "      <td>Brad Newton</td>\n",
       "      <td>taylorcatherine@example.net</td>\n",
       "      <td>+356-5376741158</td>\n",
       "      <td>38783 Oliver Street, West Kristenborough, MT 9...</td>\n",
       "      <td>2023-07-13</td>\n",
       "      <td>Silver</td>\n",
       "      <td>MT</td>\n",
       "      <td>356</td>\n",
       "    </tr>\n",
       "    <tr>\n",
       "      <th>2</th>\n",
       "      <td>3</td>\n",
       "      <td>Larry Torres</td>\n",
       "      <td>dsanchez@example.net</td>\n",
       "      <td>+1-8102564505</td>\n",
       "      <td>6845 Steele Turnpike, West Erikabury, UT 37487</td>\n",
       "      <td>2023-08-18</td>\n",
       "      <td>Bronze</td>\n",
       "      <td>UT</td>\n",
       "      <td>1</td>\n",
       "    </tr>\n",
       "    <tr>\n",
       "      <th>3</th>\n",
       "      <td>4</td>\n",
       "      <td>Kimberly Price</td>\n",
       "      <td>jessicaknight@example.com</td>\n",
       "      <td>+1-4232229779</td>\n",
       "      <td>1631 Alexis Meadows, Lake Amanda, CA 75179</td>\n",
       "      <td>2024-12-08</td>\n",
       "      <td>Gold</td>\n",
       "      <td>CA</td>\n",
       "      <td>1</td>\n",
       "    </tr>\n",
       "    <tr>\n",
       "      <th>4</th>\n",
       "      <td>5</td>\n",
       "      <td>Matthew Phillips</td>\n",
       "      <td>qwilliams@example.com</td>\n",
       "      <td>+1-2207633522</td>\n",
       "      <td>2274 Williams Heights Suite 895, Andersonhaven...</td>\n",
       "      <td>2024-02-03</td>\n",
       "      <td>Gold</td>\n",
       "      <td>OR</td>\n",
       "      <td>1</td>\n",
       "    </tr>\n",
       "  </tbody>\n",
       "</table>\n",
       "</div>"
      ],
      "text/plain": [
       "   customer_id              name                        email  \\\n",
       "0            1     Michelle Kidd           vayala@example.net   \n",
       "1            2       Brad Newton  taylorcatherine@example.net   \n",
       "2            3      Larry Torres         dsanchez@example.net   \n",
       "3            4    Kimberly Price    jessicaknight@example.com   \n",
       "4            5  Matthew Phillips        qwilliams@example.com   \n",
       "\n",
       "             phone                                            address  \\\n",
       "0  +971-6197234258                        USNS Santiago, FPO AE 80872   \n",
       "1  +356-5376741158  38783 Oliver Street, West Kristenborough, MT 9...   \n",
       "2    +1-8102564505     6845 Steele Turnpike, West Erikabury, UT 37487   \n",
       "3    +1-4232229779         1631 Alexis Meadows, Lake Amanda, CA 75179   \n",
       "4    +1-2207633522  2274 Williams Heights Suite 895, Andersonhaven...   \n",
       "\n",
       "  registration_date loyalty_status country_code  CallingCode  \n",
       "0        2025-01-25           Gold           AE          971  \n",
       "1        2023-07-13         Silver           MT          356  \n",
       "2        2023-08-18         Bronze           UT            1  \n",
       "3        2024-12-08           Gold           CA            1  \n",
       "4        2024-02-03           Gold           OR            1  "
      ]
     },
     "execution_count": 157,
     "metadata": {},
     "output_type": "execute_result"
    }
   ],
   "source": [
    "df.head()"
   ]
  },
  {
   "cell_type": "code",
   "execution_count": 158,
   "id": "010e9407",
   "metadata": {},
   "outputs": [
    {
     "data": {
      "text/plain": [
       "Index(['customer_id', 'name', 'email', 'phone', 'address', 'registration_date',\n",
       "       'loyalty_status', 'country_code', 'CallingCode'],\n",
       "      dtype='object')"
      ]
     },
     "execution_count": 158,
     "metadata": {},
     "output_type": "execute_result"
    }
   ],
   "source": [
    "df.columns"
   ]
  },
  {
   "cell_type": "markdown",
   "id": "aa7545ea",
   "metadata": {},
   "source": [
    "# creating table in ssms using python"
   ]
  },
  {
   "cell_type": "code",
   "execution_count": 175,
   "id": "fcb8d75b",
   "metadata": {},
   "outputs": [
    {
     "ename": "ProgrammingError",
     "evalue": "('42S01', \"[42S01] [Microsoft][ODBC Driver 17 for SQL Server][SQL Server]There is already an object named 'customer' in the database. (2714) (SQLExecDirectW)\")",
     "output_type": "error",
     "traceback": [
      "\u001b[31m---------------------------------------------------------------------------\u001b[39m",
      "\u001b[31mProgrammingError\u001b[39m                          Traceback (most recent call last)",
      "\u001b[36mCell\u001b[39m\u001b[36m \u001b[39m\u001b[32mIn[175]\u001b[39m\u001b[32m, line 11\u001b[39m\n\u001b[32m      3\u001b[39m conn = pyodbc.connect(\n\u001b[32m      4\u001b[39m     \u001b[33m\"\u001b[39m\u001b[33mDRIVER=\u001b[39m\u001b[33m{\u001b[39m\u001b[33mODBC Driver 17 for SQL Server};\u001b[39m\u001b[33m\"\u001b[39m\n\u001b[32m      5\u001b[39m     \u001b[33m\"\u001b[39m\u001b[33mSERVER=DESKTOP-4H1OBGV\u001b[39m\u001b[38;5;130;01m\\\\\u001b[39;00m\u001b[33mMSSQLSERVER1;\u001b[39m\u001b[33m\"\u001b[39m\n\u001b[32m      6\u001b[39m     \u001b[33m\"\u001b[39m\u001b[33mDATABASE=pythonscenario;\u001b[39m\u001b[33m\"\u001b[39m\n\u001b[32m      7\u001b[39m     \u001b[33m\"\u001b[39m\u001b[33mTrusted_Connection=yes;\u001b[39m\u001b[33m\"\u001b[39m\n\u001b[32m      8\u001b[39m )\n\u001b[32m     10\u001b[39m cursor = conn.cursor()\n\u001b[32m---> \u001b[39m\u001b[32m11\u001b[39m \u001b[43mcursor\u001b[49m\u001b[43m.\u001b[49m\u001b[43mexecute\u001b[49m\u001b[43m(\u001b[49m\u001b[33;43m\"\"\"\u001b[39;49m\n\u001b[32m     12\u001b[39m \u001b[33;43mCREATE TABLE customer (\u001b[39;49m\n\u001b[32m     13\u001b[39m \u001b[33;43m    customer_id INT,\u001b[39;49m\n\u001b[32m     14\u001b[39m \u001b[33;43m    name VARCHAR(50),\u001b[39;49m\n\u001b[32m     15\u001b[39m \u001b[33;43m    email VARCHAR(50),\u001b[39;49m\n\u001b[32m     16\u001b[39m \u001b[33;43m    phone VARCHAR(50),\u001b[39;49m\n\u001b[32m     17\u001b[39m \u001b[33;43m    address VARCHAR(100),\u001b[39;49m\n\u001b[32m     18\u001b[39m \u001b[33;43m    registration_date DATE,\u001b[39;49m\n\u001b[32m     19\u001b[39m \u001b[33;43m    loyalty_status VARCHAR(50),\u001b[39;49m\n\u001b[32m     20\u001b[39m \u001b[33;43m    country_code VARCHAR(50),\u001b[39;49m\n\u001b[32m     21\u001b[39m \u001b[33;43m    CallingCode INT\u001b[39;49m\n\u001b[32m     22\u001b[39m \u001b[33;43m)\u001b[39;49m\n\u001b[32m     23\u001b[39m \u001b[33;43m\"\"\"\u001b[39;49m\u001b[43m)\u001b[49m\n\u001b[32m     24\u001b[39m conn.commit()\n\u001b[32m     25\u001b[39m \u001b[38;5;28mprint\u001b[39m(\u001b[33m\"\u001b[39m\u001b[33mCustomer table created successfully\u001b[39m\u001b[33m\"\u001b[39m)\n",
      "\u001b[31mProgrammingError\u001b[39m: ('42S01', \"[42S01] [Microsoft][ODBC Driver 17 for SQL Server][SQL Server]There is already an object named 'customer' in the database. (2714) (SQLExecDirectW)\")"
     ]
    }
   ],
   "source": [
    "import pyodbc\n",
    "\n",
    "conn = pyodbc.connect(\n",
    "    \"DRIVER={ODBC Driver 17 for SQL Server};\"\n",
    "    \"SERVER=DESKTOP-4H1OBGV\\\\MSSQLSERVER1;\"\n",
    "    \"DATABASE=pythonscenario;\"\n",
    "    \"Trusted_Connection=yes;\"\n",
    ")\n",
    "\n",
    "cursor = conn.cursor()\n",
    "cursor.execute(\"\"\"\n",
    "CREATE TABLE customer (\n",
    "    customer_id INT,\n",
    "    name VARCHAR(50),\n",
    "    email VARCHAR(50),\n",
    "    phone VARCHAR(50),\n",
    "    address VARCHAR(100),\n",
    "    registration_date DATE,\n",
    "    loyalty_status VARCHAR(50),\n",
    "    country_code VARCHAR(50),\n",
    "    CallingCode INT\n",
    ")\n",
    "\"\"\")\n",
    "conn.commit()\n",
    "print(\"Customer table created successfully\")\n"
   ]
  },
  {
   "cell_type": "markdown",
   "id": "bf57956c",
   "metadata": {},
   "source": [
    "# inserting values into table using python and csv file "
   ]
  },
  {
   "cell_type": "code",
   "execution_count": null,
   "id": "69cf81f6",
   "metadata": {},
   "outputs": [],
   "source": [
    "\n",
    "for index, row in df.iterrows():\n",
    "    cursor.execute(\"\"\"\n",
    "        INSERT INTO customer (\n",
    "            customer_id,\n",
    "            name,\n",
    "            email,\n",
    "            phone,\n",
    "            address,\n",
    "            registration_date,\n",
    "            loyalty_status,\n",
    "            country_code,\n",
    "            CallingCode\n",
    "        ) VALUES (?, ?, ?, ?, ?, ?, ?, ?, ?)\n",
    "    \"\"\", (\n",
    "        int(row['customer_id']),\n",
    "        row['name'],\n",
    "        row['email'],\n",
    "        row['phone'],\n",
    "        row['address'],\n",
    "        row['registration_date'].strftime('%Y-%m-%d'),  #  formatted date\n",
    "        row['loyalty_status'],\n",
    "        row['country_code'],\n",
    "        int(row['CallingCode'])\n",
    "    ))\n",
    "\n",
    "conn.commit()\n",
    "print(\" All rows inserted successfully into SQL Server.\")\n"
   ]
  },
  {
   "cell_type": "markdown",
   "id": "fa72ab8a",
   "metadata": {},
   "source": [
    "# Read the new csv file"
   ]
  },
  {
   "cell_type": "code",
   "execution_count": null,
   "id": "0048e353",
   "metadata": {},
   "outputs": [],
   "source": [
    "df1=pd.read_csv(r'transaction_cleaned.csv')"
   ]
  },
  {
   "cell_type": "code",
   "execution_count": null,
   "id": "1c097dc1",
   "metadata": {},
   "outputs": [],
   "source": [
    "df1.head()"
   ]
  },
  {
   "cell_type": "code",
   "execution_count": null,
   "id": "731e9726",
   "metadata": {},
   "outputs": [],
   "source": [
    "#pip install sqlalchemy"
   ]
  },
  {
   "cell_type": "markdown",
   "id": "63bc0cd3",
   "metadata": {},
   "source": [
    "# Importing the tables from csv file to ssms"
   ]
  },
  {
   "cell_type": "code",
   "execution_count": null,
   "id": "b05b583b",
   "metadata": {},
   "outputs": [
    {
     "data": {
      "text/plain": [
       "255"
      ]
     },
     "execution_count": 64,
     "metadata": {},
     "output_type": "execute_result"
    }
   ],
   "source": [
    "import pandas as pd\n",
    "from sqlalchemy import create_engine\n",
    "import urllib\n",
    "conn = pyodbc.connect(\n",
    "    \"DRIVER={ODBC Driver 17 for SQL Server};\"\n",
    "    \"SERVER=DESKTOP-4H1OBGV\\\\MSSQLSERVER1;\"\n",
    "    \"DATABASE=pythonscenario;\"\n",
    "    \"Trusted_Connection=yes;\"\n",
    ")\n",
    "\n",
    "\n",
    "# Encode parameters for SQLAlchemy\n",
    "\n",
    "engine = create_engine(  \"mssql+pyodbc://DESKTOP-4H1OBGV\\\\MSSQLSERVER1/pythonscenario\"\n",
    "    \"?driver=ODBC+Driver+17+for+SQL+Server\"\n",
    "    \"&trusted_connection=yes\")\n",
    " \n",
    "# Load CSVs\n",
    "transaction = pd.read_csv(r'transaction_cleaned.csv')\n",
    "orders = pd.read_csv(r'order_data 1.csv')\n",
    " \n",
    " \n",
    "#customer.to_sql('Customers', con=engine, if_exists='replace', index=False)\n",
    "transaction.to_sql('transaction', con=engine, if_exists='replace', index=False)\n",
    "orders.to_sql('orders', con=engine, if_exists='replace', index=False)\n",
    " \n",
    " "
   ]
  },
  {
   "cell_type": "code",
   "execution_count": null,
   "id": "5a9124eb",
   "metadata": {},
   "outputs": [],
   "source": [
    "import re"
   ]
  },
  {
   "cell_type": "code",
   "execution_count": null,
   "id": "f572bb20",
   "metadata": {},
   "outputs": [
    {
     "data": {
      "text/html": [
       "<div>\n",
       "<style scoped>\n",
       "    .dataframe tbody tr th:only-of-type {\n",
       "        vertical-align: middle;\n",
       "    }\n",
       "\n",
       "    .dataframe tbody tr th {\n",
       "        vertical-align: top;\n",
       "    }\n",
       "\n",
       "    .dataframe thead th {\n",
       "        text-align: right;\n",
       "    }\n",
       "</style>\n",
       "<table border=\"1\" class=\"dataframe\">\n",
       "  <thead>\n",
       "    <tr style=\"text-align: right;\">\n",
       "      <th></th>\n",
       "      <th>customer_id</th>\n",
       "      <th>registration_date</th>\n",
       "      <th>CallingCode</th>\n",
       "    </tr>\n",
       "  </thead>\n",
       "  <tbody>\n",
       "    <tr>\n",
       "      <th>count</th>\n",
       "      <td>1000.000000</td>\n",
       "      <td>1000</td>\n",
       "      <td>1000.000000</td>\n",
       "    </tr>\n",
       "    <tr>\n",
       "      <th>mean</th>\n",
       "      <td>500.500000</td>\n",
       "      <td>2024-06-25 16:39:21.600000256</td>\n",
       "      <td>165.925000</td>\n",
       "    </tr>\n",
       "    <tr>\n",
       "      <th>min</th>\n",
       "      <td>1.000000</td>\n",
       "      <td>2023-06-17 00:00:00</td>\n",
       "      <td>1.000000</td>\n",
       "    </tr>\n",
       "    <tr>\n",
       "      <th>25%</th>\n",
       "      <td>250.750000</td>\n",
       "      <td>2023-12-22 18:00:00</td>\n",
       "      <td>1.000000</td>\n",
       "    </tr>\n",
       "    <tr>\n",
       "      <th>50%</th>\n",
       "      <td>500.500000</td>\n",
       "      <td>2024-06-26 00:00:00</td>\n",
       "      <td>1.000000</td>\n",
       "    </tr>\n",
       "    <tr>\n",
       "      <th>75%</th>\n",
       "      <td>750.250000</td>\n",
       "      <td>2025-01-04 06:00:00</td>\n",
       "      <td>241.000000</td>\n",
       "    </tr>\n",
       "    <tr>\n",
       "      <th>max</th>\n",
       "      <td>1000.000000</td>\n",
       "      <td>2025-06-16 00:00:00</td>\n",
       "      <td>976.000000</td>\n",
       "    </tr>\n",
       "    <tr>\n",
       "      <th>std</th>\n",
       "      <td>288.819436</td>\n",
       "      <td>NaN</td>\n",
       "      <td>283.319257</td>\n",
       "    </tr>\n",
       "  </tbody>\n",
       "</table>\n",
       "</div>"
      ],
      "text/plain": [
       "       customer_id              registration_date  CallingCode\n",
       "count  1000.000000                           1000  1000.000000\n",
       "mean    500.500000  2024-06-25 16:39:21.600000256   165.925000\n",
       "min       1.000000            2023-06-17 00:00:00     1.000000\n",
       "25%     250.750000            2023-12-22 18:00:00     1.000000\n",
       "50%     500.500000            2024-06-26 00:00:00     1.000000\n",
       "75%     750.250000            2025-01-04 06:00:00   241.000000\n",
       "max    1000.000000            2025-06-16 00:00:00   976.000000\n",
       "std     288.819436                            NaN   283.319257"
      ]
     },
     "execution_count": 66,
     "metadata": {},
     "output_type": "execute_result"
    }
   ],
   "source": [
    "df.describe()"
   ]
  },
  {
   "cell_type": "code",
   "execution_count": null,
   "id": "1547ed8f",
   "metadata": {},
   "outputs": [
    {
     "data": {
      "text/html": [
       "<div>\n",
       "<style scoped>\n",
       "    .dataframe tbody tr th:only-of-type {\n",
       "        vertical-align: middle;\n",
       "    }\n",
       "\n",
       "    .dataframe tbody tr th {\n",
       "        vertical-align: top;\n",
       "    }\n",
       "\n",
       "    .dataframe thead th {\n",
       "        text-align: right;\n",
       "    }\n",
       "</style>\n",
       "<table border=\"1\" class=\"dataframe\">\n",
       "  <thead>\n",
       "    <tr style=\"text-align: right;\">\n",
       "      <th></th>\n",
       "      <th>customer_id</th>\n",
       "      <th>name</th>\n",
       "      <th>email</th>\n",
       "      <th>phone</th>\n",
       "      <th>address</th>\n",
       "      <th>registration_date</th>\n",
       "      <th>loyalty_status</th>\n",
       "      <th>country_code</th>\n",
       "      <th>CallingCode</th>\n",
       "    </tr>\n",
       "  </thead>\n",
       "  <tbody>\n",
       "    <tr>\n",
       "      <th>0</th>\n",
       "      <td>1</td>\n",
       "      <td>Michelle Kidd</td>\n",
       "      <td>vayala@example.net</td>\n",
       "      <td>+971-6197234258</td>\n",
       "      <td>USNS Santiago, FPO AE 80872</td>\n",
       "      <td>2025-01-25</td>\n",
       "      <td>Gold</td>\n",
       "      <td>AE</td>\n",
       "      <td>971</td>\n",
       "    </tr>\n",
       "    <tr>\n",
       "      <th>1</th>\n",
       "      <td>2</td>\n",
       "      <td>Brad Newton</td>\n",
       "      <td>taylorcatherine@example.net</td>\n",
       "      <td>+356-5376741158</td>\n",
       "      <td>38783 Oliver Street, West Kristenborough, MT 9...</td>\n",
       "      <td>2023-07-13</td>\n",
       "      <td>Silver</td>\n",
       "      <td>MT</td>\n",
       "      <td>356</td>\n",
       "    </tr>\n",
       "    <tr>\n",
       "      <th>2</th>\n",
       "      <td>3</td>\n",
       "      <td>Larry Torres</td>\n",
       "      <td>dsanchez@example.net</td>\n",
       "      <td>+1-8102564505</td>\n",
       "      <td>6845 Steele Turnpike, West Erikabury, UT 37487</td>\n",
       "      <td>2023-08-18</td>\n",
       "      <td>Bronze</td>\n",
       "      <td>UT</td>\n",
       "      <td>1</td>\n",
       "    </tr>\n",
       "    <tr>\n",
       "      <th>3</th>\n",
       "      <td>4</td>\n",
       "      <td>Kimberly Price</td>\n",
       "      <td>jessicaknight@example.com</td>\n",
       "      <td>+1-4232229779</td>\n",
       "      <td>1631 Alexis Meadows, Lake Amanda, CA 75179</td>\n",
       "      <td>2024-12-08</td>\n",
       "      <td>Gold</td>\n",
       "      <td>CA</td>\n",
       "      <td>1</td>\n",
       "    </tr>\n",
       "    <tr>\n",
       "      <th>4</th>\n",
       "      <td>5</td>\n",
       "      <td>Matthew Phillips</td>\n",
       "      <td>qwilliams@example.com</td>\n",
       "      <td>+1-2207633522</td>\n",
       "      <td>2274 Williams Heights Suite 895, Andersonhaven...</td>\n",
       "      <td>2024-02-03</td>\n",
       "      <td>Gold</td>\n",
       "      <td>OR</td>\n",
       "      <td>1</td>\n",
       "    </tr>\n",
       "  </tbody>\n",
       "</table>\n",
       "</div>"
      ],
      "text/plain": [
       "   customer_id              name                        email  \\\n",
       "0            1     Michelle Kidd           vayala@example.net   \n",
       "1            2       Brad Newton  taylorcatherine@example.net   \n",
       "2            3      Larry Torres         dsanchez@example.net   \n",
       "3            4    Kimberly Price    jessicaknight@example.com   \n",
       "4            5  Matthew Phillips        qwilliams@example.com   \n",
       "\n",
       "             phone                                            address  \\\n",
       "0  +971-6197234258                        USNS Santiago, FPO AE 80872   \n",
       "1  +356-5376741158  38783 Oliver Street, West Kristenborough, MT 9...   \n",
       "2    +1-8102564505     6845 Steele Turnpike, West Erikabury, UT 37487   \n",
       "3    +1-4232229779         1631 Alexis Meadows, Lake Amanda, CA 75179   \n",
       "4    +1-2207633522  2274 Williams Heights Suite 895, Andersonhaven...   \n",
       "\n",
       "  registration_date loyalty_status country_code  CallingCode  \n",
       "0        2025-01-25           Gold           AE          971  \n",
       "1        2023-07-13         Silver           MT          356  \n",
       "2        2023-08-18         Bronze           UT            1  \n",
       "3        2024-12-08           Gold           CA            1  \n",
       "4        2024-02-03           Gold           OR            1  "
      ]
     },
     "execution_count": 67,
     "metadata": {},
     "output_type": "execute_result"
    }
   ],
   "source": [
    "df.head()"
   ]
  },
  {
   "cell_type": "markdown",
   "id": "4ac15d0c",
   "metadata": {},
   "source": [
    "# Removing Prefix and Suffix from name "
   ]
  },
  {
   "cell_type": "code",
   "execution_count": 176,
   "id": "e86b7672",
   "metadata": {},
   "outputs": [],
   "source": [
    "df['name']=df['name'].str.replace(r'^(mr|ms|miss|dr|er)\\.?\\s+', '',regex=True ,flags=re.IGNORECASE )\n",
    "df['name']=df['name'].str.replace(r'^(Jr.| Sr.|md|dds|phd|iii|II|III|)\\.?\\s+', '',regex=True ,flags=re.IGNORECASE )\n"
   ]
  },
  {
   "cell_type": "code",
   "execution_count": null,
   "id": "6841b8b8",
   "metadata": {},
   "outputs": [
    {
     "data": {
      "text/plain": [
       "customer_id                                                        937\n",
       "name                                               Gregory Delgado III\n",
       "email                                     sandovaljennifer@example.net\n",
       "phone                                                    +1-5105814385\n",
       "address              81588 Tiffany Circles Apt. 973, East Danielle,...\n",
       "registration_date                                  2025-03-30 00:00:00\n",
       "loyalty_status                                                  Bronze\n",
       "country_code                                                        MS\n",
       "CallingCode                                                          1\n",
       "first_name                                                     Gregory\n",
       "last_name                                                          III\n",
       "Name: 936, dtype: object"
      ]
     },
     "execution_count": 97,
     "metadata": {},
     "output_type": "execute_result"
    }
   ],
   "source": [
    "df.loc[936]"
   ]
  },
  {
   "cell_type": "code",
   "execution_count": null,
   "id": "3b495843",
   "metadata": {},
   "outputs": [
    {
     "data": {
      "text/plain": [
       "0         Michelle Kidd\n",
       "1           Brad Newton\n",
       "2          Larry Torres\n",
       "3        Kimberly Price\n",
       "4      Matthew Phillips\n",
       "             ...       \n",
       "995      Jerry Mcdaniel\n",
       "996        Jodi Simpson\n",
       "997       Crystal Brown\n",
       "998      Gregory Duarte\n",
       "999         Jason Walls\n",
       "Name: name, Length: 1000, dtype: object"
      ]
     },
     "execution_count": 98,
     "metadata": {},
     "output_type": "execute_result"
    }
   ],
   "source": [
    "df['name']"
   ]
  },
  {
   "cell_type": "code",
   "execution_count": 160,
   "id": "b3870316",
   "metadata": {},
   "outputs": [],
   "source": [
    "df['name']=df['name'].str.replace(r'^(mr|ms|mrs|dr|miss|mrs|prof)\\.?\\s+', '',regex=True ,flags=re.IGNORECASE )\n",
    "df['name']=df['name'].str.replace(r'\\b(jr|md|phd|dds|iii|dvm)\\.?$', '',regex=True ,flags=re.IGNORECASE )"
   ]
  },
  {
   "cell_type": "markdown",
   "id": "f078950c",
   "metadata": {},
   "source": [
    "# Dividing name to first name and last name"
   ]
  },
  {
   "cell_type": "code",
   "execution_count": 163,
   "id": "1c6e7ef1",
   "metadata": {},
   "outputs": [
    {
     "data": {
      "text/plain": [
       "0          Kidd\n",
       "1        Newton\n",
       "2        Torres\n",
       "3         Price\n",
       "4      Phillips\n",
       "5     Gallagher\n",
       "6        Miller\n",
       "7      Galloway\n",
       "8        Harvey\n",
       "9         White\n",
       "10         Yang\n",
       "11      Delgado\n",
       "12      Brennan\n",
       "13       Thomas\n",
       "14        Perez\n",
       "15     Matthews\n",
       "16     Alvarado\n",
       "17         Dunn\n",
       "18      Johnson\n",
       "19      Morales\n",
       "Name: last_name, dtype: object"
      ]
     },
     "execution_count": 163,
     "metadata": {},
     "output_type": "execute_result"
    }
   ],
   "source": [
    "df['first_name']=df['name'].str.split().str[0]\n",
    "df['last_name'] = df['name'].str.split().str[-1]\n",
    "df['last_name'].head(20)"
   ]
  },
  {
   "cell_type": "code",
   "execution_count": 164,
   "id": "6150a8ff",
   "metadata": {},
   "outputs": [
    {
     "data": {
      "text/plain": [
       "0          Kidd\n",
       "1        Newton\n",
       "2        Torres\n",
       "3         Price\n",
       "4      Phillips\n",
       "         ...   \n",
       "995    Mcdaniel\n",
       "996     Simpson\n",
       "997       Brown\n",
       "998      Duarte\n",
       "999       Walls\n",
       "Name: last_name, Length: 1000, dtype: object"
      ]
     },
     "execution_count": 164,
     "metadata": {},
     "output_type": "execute_result"
    }
   ],
   "source": [
    "df['first_name']\n",
    "df['last_name']"
   ]
  },
  {
   "cell_type": "code",
   "execution_count": 165,
   "id": "aaa0537d",
   "metadata": {},
   "outputs": [
    {
     "data": {
      "text/html": [
       "<div>\n",
       "<style scoped>\n",
       "    .dataframe tbody tr th:only-of-type {\n",
       "        vertical-align: middle;\n",
       "    }\n",
       "\n",
       "    .dataframe tbody tr th {\n",
       "        vertical-align: top;\n",
       "    }\n",
       "\n",
       "    .dataframe thead th {\n",
       "        text-align: right;\n",
       "    }\n",
       "</style>\n",
       "<table border=\"1\" class=\"dataframe\">\n",
       "  <thead>\n",
       "    <tr style=\"text-align: right;\">\n",
       "      <th></th>\n",
       "      <th>customer_id</th>\n",
       "      <th>name</th>\n",
       "      <th>email</th>\n",
       "      <th>phone</th>\n",
       "      <th>address</th>\n",
       "      <th>registration_date</th>\n",
       "      <th>loyalty_status</th>\n",
       "      <th>country_code</th>\n",
       "      <th>CallingCode</th>\n",
       "      <th>first_name</th>\n",
       "      <th>last_name</th>\n",
       "    </tr>\n",
       "  </thead>\n",
       "  <tbody>\n",
       "    <tr>\n",
       "      <th>0</th>\n",
       "      <td>1</td>\n",
       "      <td>Michelle Kidd</td>\n",
       "      <td>vayala@example.net</td>\n",
       "      <td>+971-6197234258</td>\n",
       "      <td>USNS Santiago, FPO AE 80872</td>\n",
       "      <td>2025-01-25</td>\n",
       "      <td>Gold</td>\n",
       "      <td>AE</td>\n",
       "      <td>971</td>\n",
       "      <td>Michelle</td>\n",
       "      <td>Kidd</td>\n",
       "    </tr>\n",
       "    <tr>\n",
       "      <th>1</th>\n",
       "      <td>2</td>\n",
       "      <td>Brad Newton</td>\n",
       "      <td>taylorcatherine@example.net</td>\n",
       "      <td>+356-5376741158</td>\n",
       "      <td>38783 Oliver Street, West Kristenborough, MT 9...</td>\n",
       "      <td>2023-07-13</td>\n",
       "      <td>Silver</td>\n",
       "      <td>MT</td>\n",
       "      <td>356</td>\n",
       "      <td>Brad</td>\n",
       "      <td>Newton</td>\n",
       "    </tr>\n",
       "    <tr>\n",
       "      <th>2</th>\n",
       "      <td>3</td>\n",
       "      <td>Larry Torres</td>\n",
       "      <td>dsanchez@example.net</td>\n",
       "      <td>+1-8102564505</td>\n",
       "      <td>6845 Steele Turnpike, West Erikabury, UT 37487</td>\n",
       "      <td>2023-08-18</td>\n",
       "      <td>Bronze</td>\n",
       "      <td>UT</td>\n",
       "      <td>1</td>\n",
       "      <td>Larry</td>\n",
       "      <td>Torres</td>\n",
       "    </tr>\n",
       "    <tr>\n",
       "      <th>3</th>\n",
       "      <td>4</td>\n",
       "      <td>Kimberly Price</td>\n",
       "      <td>jessicaknight@example.com</td>\n",
       "      <td>+1-4232229779</td>\n",
       "      <td>1631 Alexis Meadows, Lake Amanda, CA 75179</td>\n",
       "      <td>2024-12-08</td>\n",
       "      <td>Gold</td>\n",
       "      <td>CA</td>\n",
       "      <td>1</td>\n",
       "      <td>Kimberly</td>\n",
       "      <td>Price</td>\n",
       "    </tr>\n",
       "    <tr>\n",
       "      <th>4</th>\n",
       "      <td>5</td>\n",
       "      <td>Matthew Phillips</td>\n",
       "      <td>qwilliams@example.com</td>\n",
       "      <td>+1-2207633522</td>\n",
       "      <td>2274 Williams Heights Suite 895, Andersonhaven...</td>\n",
       "      <td>2024-02-03</td>\n",
       "      <td>Gold</td>\n",
       "      <td>OR</td>\n",
       "      <td>1</td>\n",
       "      <td>Matthew</td>\n",
       "      <td>Phillips</td>\n",
       "    </tr>\n",
       "  </tbody>\n",
       "</table>\n",
       "</div>"
      ],
      "text/plain": [
       "   customer_id              name                        email  \\\n",
       "0            1     Michelle Kidd           vayala@example.net   \n",
       "1            2       Brad Newton  taylorcatherine@example.net   \n",
       "2            3      Larry Torres         dsanchez@example.net   \n",
       "3            4    Kimberly Price    jessicaknight@example.com   \n",
       "4            5  Matthew Phillips        qwilliams@example.com   \n",
       "\n",
       "             phone                                            address  \\\n",
       "0  +971-6197234258                        USNS Santiago, FPO AE 80872   \n",
       "1  +356-5376741158  38783 Oliver Street, West Kristenborough, MT 9...   \n",
       "2    +1-8102564505     6845 Steele Turnpike, West Erikabury, UT 37487   \n",
       "3    +1-4232229779         1631 Alexis Meadows, Lake Amanda, CA 75179   \n",
       "4    +1-2207633522  2274 Williams Heights Suite 895, Andersonhaven...   \n",
       "\n",
       "  registration_date loyalty_status country_code  CallingCode first_name  \\\n",
       "0        2025-01-25           Gold           AE          971   Michelle   \n",
       "1        2023-07-13         Silver           MT          356       Brad   \n",
       "2        2023-08-18         Bronze           UT            1      Larry   \n",
       "3        2024-12-08           Gold           CA            1   Kimberly   \n",
       "4        2024-02-03           Gold           OR            1    Matthew   \n",
       "\n",
       "  last_name  \n",
       "0      Kidd  \n",
       "1    Newton  \n",
       "2    Torres  \n",
       "3     Price  \n",
       "4  Phillips  "
      ]
     },
     "execution_count": 165,
     "metadata": {},
     "output_type": "execute_result"
    }
   ],
   "source": [
    "df.head()"
   ]
  },
  {
   "cell_type": "markdown",
   "id": "c1f803dc",
   "metadata": {},
   "source": [
    "# Connecting and pushing the updated table to ssms"
   ]
  },
  {
   "cell_type": "code",
   "execution_count": 166,
   "id": "356f1af6",
   "metadata": {},
   "outputs": [
    {
     "data": {
      "text/plain": [
       "50"
      ]
     },
     "execution_count": 166,
     "metadata": {},
     "output_type": "execute_result"
    }
   ],
   "source": [
    "conn = pyodbc.connect(\n",
    "    \"DRIVER={ODBC Driver 17 for SQL Server};\"\n",
    "    \"SERVER=DESKTOP-4H1OBGV\\\\MSSQLSERVER1;\"\n",
    "    \"DATABASE=pythonscenario;\"\n",
    "    \"Trusted_Connection=yes;\"\n",
    ")\n",
    "df.to_sql('customer',con=engine,if_exists='replace',index=False)"
   ]
  },
  {
   "cell_type": "markdown",
   "id": "aeb484df",
   "metadata": {},
   "source": [
    "# Creating the new column for customer_tire "
   ]
  },
  {
   "cell_type": "code",
   "execution_count": 167,
   "id": "b27ed352",
   "metadata": {},
   "outputs": [],
   "source": [
    "df['customer_tier']= df['loyalty_status'].apply(\n",
    "lambda x: 0 if x=='Bronze' else 1 if x=='Silver' else 2\n",
    ")\n"
   ]
  },
  {
   "cell_type": "code",
   "execution_count": 168,
   "id": "bbb84d27",
   "metadata": {},
   "outputs": [
    {
     "data": {
      "text/plain": [
       "0      2\n",
       "1      1\n",
       "2      0\n",
       "3      2\n",
       "4      2\n",
       "      ..\n",
       "995    1\n",
       "996    0\n",
       "997    0\n",
       "998    2\n",
       "999    0\n",
       "Name: customer_tier, Length: 1000, dtype: int64"
      ]
     },
     "execution_count": 168,
     "metadata": {},
     "output_type": "execute_result"
    }
   ],
   "source": [
    "df['customer_tier']"
   ]
  },
  {
   "cell_type": "markdown",
   "id": "26def6ad",
   "metadata": {},
   "source": [
    "# Pushing the updated table to SSMS"
   ]
  },
  {
   "cell_type": "code",
   "execution_count": 169,
   "id": "b6bde16a",
   "metadata": {},
   "outputs": [
    {
     "data": {
      "text/plain": [
       "130"
      ]
     },
     "execution_count": 169,
     "metadata": {},
     "output_type": "execute_result"
    }
   ],
   "source": [
    "df.to_sql('customer',con=engine,if_exists='replace',index=False)"
   ]
  },
  {
   "cell_type": "code",
   "execution_count": 170,
   "id": "6477f5fe",
   "metadata": {},
   "outputs": [
    {
     "data": {
      "text/plain": [
       "Index(['customer_id', 'name', 'email', 'phone', 'address', 'registration_date',\n",
       "       'loyalty_status', 'country_code', 'CallingCode', 'first_name',\n",
       "       'last_name', 'customer_tier'],\n",
       "      dtype='object')"
      ]
     },
     "execution_count": 170,
     "metadata": {},
     "output_type": "execute_result"
    }
   ],
   "source": [
    "df.columns"
   ]
  },
  {
   "cell_type": "markdown",
   "id": "be57638e",
   "metadata": {},
   "source": [
    "# Ordering the columns"
   ]
  },
  {
   "cell_type": "code",
   "execution_count": 171,
   "id": "e35f2f04",
   "metadata": {},
   "outputs": [],
   "source": [
    "new_order=['customer_id', 'name','first_name',\n",
    "       'last_name',  'email', 'phone', 'address', 'registration_date',\n",
    "       'loyalty_status', 'customer_tier', 'country_code', 'CallingCode']\n"
   ]
  },
  {
   "cell_type": "code",
   "execution_count": 172,
   "id": "e062fdd1",
   "metadata": {},
   "outputs": [],
   "source": [
    "df=df[new_order]"
   ]
  },
  {
   "cell_type": "code",
   "execution_count": 173,
   "id": "fe8ed9a9",
   "metadata": {},
   "outputs": [
    {
     "data": {
      "text/html": [
       "<div>\n",
       "<style scoped>\n",
       "    .dataframe tbody tr th:only-of-type {\n",
       "        vertical-align: middle;\n",
       "    }\n",
       "\n",
       "    .dataframe tbody tr th {\n",
       "        vertical-align: top;\n",
       "    }\n",
       "\n",
       "    .dataframe thead th {\n",
       "        text-align: right;\n",
       "    }\n",
       "</style>\n",
       "<table border=\"1\" class=\"dataframe\">\n",
       "  <thead>\n",
       "    <tr style=\"text-align: right;\">\n",
       "      <th></th>\n",
       "      <th>customer_id</th>\n",
       "      <th>name</th>\n",
       "      <th>first_name</th>\n",
       "      <th>last_name</th>\n",
       "      <th>email</th>\n",
       "      <th>phone</th>\n",
       "      <th>address</th>\n",
       "      <th>registration_date</th>\n",
       "      <th>loyalty_status</th>\n",
       "      <th>customer_tier</th>\n",
       "      <th>country_code</th>\n",
       "      <th>CallingCode</th>\n",
       "    </tr>\n",
       "  </thead>\n",
       "  <tbody>\n",
       "    <tr>\n",
       "      <th>0</th>\n",
       "      <td>1</td>\n",
       "      <td>Michelle Kidd</td>\n",
       "      <td>Michelle</td>\n",
       "      <td>Kidd</td>\n",
       "      <td>vayala@example.net</td>\n",
       "      <td>+971-6197234258</td>\n",
       "      <td>USNS Santiago, FPO AE 80872</td>\n",
       "      <td>2025-01-25</td>\n",
       "      <td>Gold</td>\n",
       "      <td>2</td>\n",
       "      <td>AE</td>\n",
       "      <td>971</td>\n",
       "    </tr>\n",
       "    <tr>\n",
       "      <th>1</th>\n",
       "      <td>2</td>\n",
       "      <td>Brad Newton</td>\n",
       "      <td>Brad</td>\n",
       "      <td>Newton</td>\n",
       "      <td>taylorcatherine@example.net</td>\n",
       "      <td>+356-5376741158</td>\n",
       "      <td>38783 Oliver Street, West Kristenborough, MT 9...</td>\n",
       "      <td>2023-07-13</td>\n",
       "      <td>Silver</td>\n",
       "      <td>1</td>\n",
       "      <td>MT</td>\n",
       "      <td>356</td>\n",
       "    </tr>\n",
       "    <tr>\n",
       "      <th>2</th>\n",
       "      <td>3</td>\n",
       "      <td>Larry Torres</td>\n",
       "      <td>Larry</td>\n",
       "      <td>Torres</td>\n",
       "      <td>dsanchez@example.net</td>\n",
       "      <td>+1-8102564505</td>\n",
       "      <td>6845 Steele Turnpike, West Erikabury, UT 37487</td>\n",
       "      <td>2023-08-18</td>\n",
       "      <td>Bronze</td>\n",
       "      <td>0</td>\n",
       "      <td>UT</td>\n",
       "      <td>1</td>\n",
       "    </tr>\n",
       "    <tr>\n",
       "      <th>3</th>\n",
       "      <td>4</td>\n",
       "      <td>Kimberly Price</td>\n",
       "      <td>Kimberly</td>\n",
       "      <td>Price</td>\n",
       "      <td>jessicaknight@example.com</td>\n",
       "      <td>+1-4232229779</td>\n",
       "      <td>1631 Alexis Meadows, Lake Amanda, CA 75179</td>\n",
       "      <td>2024-12-08</td>\n",
       "      <td>Gold</td>\n",
       "      <td>2</td>\n",
       "      <td>CA</td>\n",
       "      <td>1</td>\n",
       "    </tr>\n",
       "    <tr>\n",
       "      <th>4</th>\n",
       "      <td>5</td>\n",
       "      <td>Matthew Phillips</td>\n",
       "      <td>Matthew</td>\n",
       "      <td>Phillips</td>\n",
       "      <td>qwilliams@example.com</td>\n",
       "      <td>+1-2207633522</td>\n",
       "      <td>2274 Williams Heights Suite 895, Andersonhaven...</td>\n",
       "      <td>2024-02-03</td>\n",
       "      <td>Gold</td>\n",
       "      <td>2</td>\n",
       "      <td>OR</td>\n",
       "      <td>1</td>\n",
       "    </tr>\n",
       "  </tbody>\n",
       "</table>\n",
       "</div>"
      ],
      "text/plain": [
       "   customer_id              name first_name last_name  \\\n",
       "0            1     Michelle Kidd   Michelle      Kidd   \n",
       "1            2       Brad Newton       Brad    Newton   \n",
       "2            3      Larry Torres      Larry    Torres   \n",
       "3            4    Kimberly Price   Kimberly     Price   \n",
       "4            5  Matthew Phillips    Matthew  Phillips   \n",
       "\n",
       "                         email            phone  \\\n",
       "0           vayala@example.net  +971-6197234258   \n",
       "1  taylorcatherine@example.net  +356-5376741158   \n",
       "2         dsanchez@example.net    +1-8102564505   \n",
       "3    jessicaknight@example.com    +1-4232229779   \n",
       "4        qwilliams@example.com    +1-2207633522   \n",
       "\n",
       "                                             address registration_date  \\\n",
       "0                        USNS Santiago, FPO AE 80872        2025-01-25   \n",
       "1  38783 Oliver Street, West Kristenborough, MT 9...        2023-07-13   \n",
       "2     6845 Steele Turnpike, West Erikabury, UT 37487        2023-08-18   \n",
       "3         1631 Alexis Meadows, Lake Amanda, CA 75179        2024-12-08   \n",
       "4  2274 Williams Heights Suite 895, Andersonhaven...        2024-02-03   \n",
       "\n",
       "  loyalty_status  customer_tier country_code  CallingCode  \n",
       "0           Gold              2           AE          971  \n",
       "1         Silver              1           MT          356  \n",
       "2         Bronze              0           UT            1  \n",
       "3           Gold              2           CA            1  \n",
       "4           Gold              2           OR            1  "
      ]
     },
     "execution_count": 173,
     "metadata": {},
     "output_type": "execute_result"
    }
   ],
   "source": [
    "df.head()"
   ]
  },
  {
   "cell_type": "markdown",
   "id": "e3abbc5c",
   "metadata": {},
   "source": [
    "# Pushing the updated table to SSMS"
   ]
  },
  {
   "cell_type": "code",
   "execution_count": 174,
   "id": "cd1ae812",
   "metadata": {},
   "outputs": [
    {
     "data": {
      "text/plain": [
       "130"
      ]
     },
     "execution_count": 174,
     "metadata": {},
     "output_type": "execute_result"
    }
   ],
   "source": [
    "df.to_sql('customer',con=engine,if_exists='replace',index=False)"
   ]
  }
 ],
 "metadata": {
  "kernelspec": {
   "display_name": "venv",
   "language": "python",
   "name": "python3"
  },
  "language_info": {
   "codemirror_mode": {
    "name": "ipython",
    "version": 3
   },
   "file_extension": ".py",
   "mimetype": "text/x-python",
   "name": "python",
   "nbconvert_exporter": "python",
   "pygments_lexer": "ipython3",
   "version": "3.11.9"
  }
 },
 "nbformat": 4,
 "nbformat_minor": 5
}
