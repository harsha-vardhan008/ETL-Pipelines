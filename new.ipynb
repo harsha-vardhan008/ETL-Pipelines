{
 "cells": [
  {
   "cell_type": "code",
   "execution_count": null,
   "id": "a0ebba18",
   "metadata": {},
   "outputs": [],
   "source": [
    "import configparser\n",
    "import pandas as pd \n",
    "from  pymongo import MongoClient\n"
   ]
  },
  {
   "cell_type": "code",
   "execution_count": null,
   "id": "758ea3c4",
   "metadata": {},
   "outputs": [],
   "source": [
    "config=configparser.ConfigParser()\n",
    "config.read(r\"C:\\Users\\Harshavardhan\\Documents\\python_tutorials\\MangoDB\\config.config\")\n",
    "url=config['mongo']['url']\n",
    "client=MongoClient(url)\n",
    "db= client['First']\n",
    "collection=db[\"Unstructured\"]\n",
    "doc=list(collection.find())\n",
    "df=pd.DataFrame(doc)"
   ]
  },
  {
   "cell_type": "code",
   "execution_count": null,
   "id": "9d839c8c",
   "metadata": {},
   "outputs": [],
   "source": [
    "df"
   ]
  },
  {
   "cell_type": "code",
   "execution_count": null,
   "id": "2cd61e25",
   "metadata": {},
   "outputs": [],
   "source": [
    "df[\"_id\"]=df[\"_id\"].astype(str)\n",
    "project_df=df[['_id','project_id','technologies','status']]"
   ]
  },
  {
   "cell_type": "code",
   "execution_count": null,
   "id": "ab0e4d9e",
   "metadata": {},
   "outputs": [],
   "source": [
    "project_df"
   ]
  },
  {
   "cell_type": "code",
   "execution_count": null,
   "id": "fa5d2ef2",
   "metadata": {},
   "outputs": [],
   "source": [
    "client_df=pd.json_normalize(df['client'],sep='_')\n",
    "client_df['project_id']=df['project_id']\n",
    "client_df=client_df.rename(columns={\n",
    "    \"name\": \"client_name\",\n",
    "    \"location_city\": \"city\",\n",
    "    \"location_country\": \"country\"\n",
    "})[[\"project_id\", \"client_name\", \"industry\", \"city\", \"country\"]]"
   ]
  },
  {
   "cell_type": "code",
   "execution_count": null,
   "id": "2b356ca0",
   "metadata": {},
   "outputs": [],
   "source": [
    "client_df"
   ]
  },
  {
   "cell_type": "code",
   "execution_count": null,
   "id": "4c4d4923",
   "metadata": {},
   "outputs": [],
   "source": [
    "client_df['client_id']=['CLI'+str(i+1).zfill(3) for i in range(len(client_df))]"
   ]
  },
  {
   "cell_type": "code",
   "execution_count": null,
   "id": "eee5f00c",
   "metadata": {},
   "outputs": [],
   "source": [
    "client_df"
   ]
  },
  {
   "cell_type": "code",
   "execution_count": null,
   "id": "d73eec7d",
   "metadata": {},
   "outputs": [],
   "source": [
    "client_df=client_df[['project_id','client_id','client_name','industry','city','country']]"
   ]
  },
  {
   "cell_type": "code",
   "execution_count": null,
   "id": "bbcc0986",
   "metadata": {},
   "outputs": [],
   "source": [
    "client_df"
   ]
  },
  {
   "cell_type": "code",
   "execution_count": 66,
   "id": "f3f11120",
   "metadata": {},
   "outputs": [
    {
     "data": {
      "text/html": [
       "<div>\n",
       "<style scoped>\n",
       "    .dataframe tbody tr th:only-of-type {\n",
       "        vertical-align: middle;\n",
       "    }\n",
       "\n",
       "    .dataframe tbody tr th {\n",
       "        vertical-align: top;\n",
       "    }\n",
       "\n",
       "    .dataframe thead th {\n",
       "        text-align: right;\n",
       "    }\n",
       "</style>\n",
       "<table border=\"1\" class=\"dataframe\">\n",
       "  <thead>\n",
       "    <tr style=\"text-align: right;\">\n",
       "      <th></th>\n",
       "      <th>project_manager</th>\n",
       "      <th>members</th>\n",
       "    </tr>\n",
       "  </thead>\n",
       "  <tbody>\n",
       "    <tr>\n",
       "      <th>0</th>\n",
       "      <td>Amit Sinha</td>\n",
       "      <td>{'name': 'Riya Mehta', 'role': 'DevOps Engineer'}</td>\n",
       "    </tr>\n",
       "    <tr>\n",
       "      <th>0</th>\n",
       "      <td>Amit Sinha</td>\n",
       "      <td>{'name': 'Sagar Patel', 'role': 'Cloud Archite...</td>\n",
       "    </tr>\n",
       "    <tr>\n",
       "      <th>1</th>\n",
       "      <td>Pooja Reddy</td>\n",
       "      <td>{'name': 'Anil Kumar', 'role': 'Data Engineer'}</td>\n",
       "    </tr>\n",
       "    <tr>\n",
       "      <th>1</th>\n",
       "      <td>Pooja Reddy</td>\n",
       "      <td>{'name': 'Nidhi Das', 'role': 'Business Analyst'}</td>\n",
       "    </tr>\n",
       "  </tbody>\n",
       "</table>\n",
       "</div>"
      ],
      "text/plain": [
       "  project_manager                                            members\n",
       "0      Amit Sinha  {'name': 'Riya Mehta', 'role': 'DevOps Engineer'}\n",
       "0      Amit Sinha  {'name': 'Sagar Patel', 'role': 'Cloud Archite...\n",
       "1     Pooja Reddy    {'name': 'Anil Kumar', 'role': 'Data Engineer'}\n",
       "1     Pooja Reddy  {'name': 'Nidhi Das', 'role': 'Business Analyst'}"
      ]
     },
     "execution_count": 66,
     "metadata": {},
     "output_type": "execute_result"
    }
   ],
   "source": [
    "teams=df['team'].apply(pd.Series).explode('members')\n",
    "teams\n"
   ]
  },
  {
   "cell_type": "code",
   "execution_count": 69,
   "id": "55ce0471",
   "metadata": {},
   "outputs": [],
   "source": [
    "df=pd.json_normalize(df)"
   ]
  },
  {
   "cell_type": "code",
   "execution_count": 70,
   "id": "c63a022d",
   "metadata": {},
   "outputs": [
    {
     "ename": "KeyError",
     "evalue": "\"None of [Index(['project_id', 'team.members'], dtype='object')] are in the [columns]\"",
     "output_type": "error",
     "traceback": [
      "\u001b[31m---------------------------------------------------------------------------\u001b[39m",
      "\u001b[31mKeyError\u001b[39m                                  Traceback (most recent call last)",
      "\u001b[36mCell\u001b[39m\u001b[36m \u001b[39m\u001b[32mIn[70]\u001b[39m\u001b[32m, line 1\u001b[39m\n\u001b[32m----> \u001b[39m\u001b[32m1\u001b[39m teams = \u001b[43mdf\u001b[49m\u001b[43m[\u001b[49m\u001b[43m[\u001b[49m\u001b[33;43m'\u001b[39;49m\u001b[33;43mproject_id\u001b[39;49m\u001b[33;43m'\u001b[39;49m\u001b[43m,\u001b[49m\u001b[43m \u001b[49m\u001b[33;43m'\u001b[39;49m\u001b[33;43mteam.members\u001b[39;49m\u001b[33;43m'\u001b[39;49m\u001b[43m]\u001b[49m\u001b[43m]\u001b[49m.explode(\u001b[33m'\u001b[39m\u001b[33mteam.members\u001b[39m\u001b[33m'\u001b[39m)\n\u001b[32m      2\u001b[39m teams = pd.concat([\n\u001b[32m      3\u001b[39m     teams.drop(columns=\u001b[33m'\u001b[39m\u001b[33mteam.members\u001b[39m\u001b[33m'\u001b[39m), teams[\u001b[33m'\u001b[39m\u001b[33mteam.members\u001b[39m\u001b[33m'\u001b[39m].apply(pd.Series)],\n\u001b[32m      4\u001b[39m     axis=\u001b[32m1\u001b[39m\n\u001b[32m      5\u001b[39m )\n\u001b[32m      6\u001b[39m df_pm = pd.DataFrame({\u001b[33m'\u001b[39m\u001b[33mproject_id\u001b[39m\u001b[33m'\u001b[39m: df[\u001b[33m'\u001b[39m\u001b[33mproject_id\u001b[39m\u001b[33m'\u001b[39m],\u001b[33m'\u001b[39m\u001b[33mname\u001b[39m\u001b[33m'\u001b[39m: df[\u001b[33m'\u001b[39m\u001b[33mteam.project_manager\u001b[39m\u001b[33m'\u001b[39m],\u001b[33m'\u001b[39m\u001b[33mrole\u001b[39m\u001b[33m'\u001b[39m: \u001b[33m'\u001b[39m\u001b[33mproject_manager\u001b[39m\u001b[33m'\u001b[39m})\n",
      "\u001b[36mFile \u001b[39m\u001b[32mc:\\Users\\Harshavardhan\\AppData\\Local\\Programs\\Python\\Python311\\Lib\\site-packages\\pandas\\core\\frame.py:4113\u001b[39m, in \u001b[36mDataFrame.__getitem__\u001b[39m\u001b[34m(self, key)\u001b[39m\n\u001b[32m   4111\u001b[39m     \u001b[38;5;28;01mif\u001b[39;00m is_iterator(key):\n\u001b[32m   4112\u001b[39m         key = \u001b[38;5;28mlist\u001b[39m(key)\n\u001b[32m-> \u001b[39m\u001b[32m4113\u001b[39m     indexer = \u001b[38;5;28;43mself\u001b[39;49m\u001b[43m.\u001b[49m\u001b[43mcolumns\u001b[49m\u001b[43m.\u001b[49m\u001b[43m_get_indexer_strict\u001b[49m\u001b[43m(\u001b[49m\u001b[43mkey\u001b[49m\u001b[43m,\u001b[49m\u001b[43m \u001b[49m\u001b[33;43m\"\u001b[39;49m\u001b[33;43mcolumns\u001b[39;49m\u001b[33;43m\"\u001b[39;49m\u001b[43m)\u001b[49m[\u001b[32m1\u001b[39m]\n\u001b[32m   4115\u001b[39m \u001b[38;5;66;03m# take() does not accept boolean indexers\u001b[39;00m\n\u001b[32m   4116\u001b[39m \u001b[38;5;28;01mif\u001b[39;00m \u001b[38;5;28mgetattr\u001b[39m(indexer, \u001b[33m\"\u001b[39m\u001b[33mdtype\u001b[39m\u001b[33m\"\u001b[39m, \u001b[38;5;28;01mNone\u001b[39;00m) == \u001b[38;5;28mbool\u001b[39m:\n",
      "\u001b[36mFile \u001b[39m\u001b[32mc:\\Users\\Harshavardhan\\AppData\\Local\\Programs\\Python\\Python311\\Lib\\site-packages\\pandas\\core\\indexes\\base.py:6212\u001b[39m, in \u001b[36mIndex._get_indexer_strict\u001b[39m\u001b[34m(self, key, axis_name)\u001b[39m\n\u001b[32m   6209\u001b[39m \u001b[38;5;28;01melse\u001b[39;00m:\n\u001b[32m   6210\u001b[39m     keyarr, indexer, new_indexer = \u001b[38;5;28mself\u001b[39m._reindex_non_unique(keyarr)\n\u001b[32m-> \u001b[39m\u001b[32m6212\u001b[39m \u001b[38;5;28;43mself\u001b[39;49m\u001b[43m.\u001b[49m\u001b[43m_raise_if_missing\u001b[49m\u001b[43m(\u001b[49m\u001b[43mkeyarr\u001b[49m\u001b[43m,\u001b[49m\u001b[43m \u001b[49m\u001b[43mindexer\u001b[49m\u001b[43m,\u001b[49m\u001b[43m \u001b[49m\u001b[43maxis_name\u001b[49m\u001b[43m)\u001b[49m\n\u001b[32m   6214\u001b[39m keyarr = \u001b[38;5;28mself\u001b[39m.take(indexer)\n\u001b[32m   6215\u001b[39m \u001b[38;5;28;01mif\u001b[39;00m \u001b[38;5;28misinstance\u001b[39m(key, Index):\n\u001b[32m   6216\u001b[39m     \u001b[38;5;66;03m# GH 42790 - Preserve name from an Index\u001b[39;00m\n",
      "\u001b[36mFile \u001b[39m\u001b[32mc:\\Users\\Harshavardhan\\AppData\\Local\\Programs\\Python\\Python311\\Lib\\site-packages\\pandas\\core\\indexes\\base.py:6261\u001b[39m, in \u001b[36mIndex._raise_if_missing\u001b[39m\u001b[34m(self, key, indexer, axis_name)\u001b[39m\n\u001b[32m   6259\u001b[39m \u001b[38;5;28;01mif\u001b[39;00m nmissing:\n\u001b[32m   6260\u001b[39m     \u001b[38;5;28;01mif\u001b[39;00m nmissing == \u001b[38;5;28mlen\u001b[39m(indexer):\n\u001b[32m-> \u001b[39m\u001b[32m6261\u001b[39m         \u001b[38;5;28;01mraise\u001b[39;00m \u001b[38;5;167;01mKeyError\u001b[39;00m(\u001b[33mf\u001b[39m\u001b[33m\"\u001b[39m\u001b[33mNone of [\u001b[39m\u001b[38;5;132;01m{\u001b[39;00mkey\u001b[38;5;132;01m}\u001b[39;00m\u001b[33m] are in the [\u001b[39m\u001b[38;5;132;01m{\u001b[39;00maxis_name\u001b[38;5;132;01m}\u001b[39;00m\u001b[33m]\u001b[39m\u001b[33m\"\u001b[39m)\n\u001b[32m   6263\u001b[39m     not_found = \u001b[38;5;28mlist\u001b[39m(ensure_index(key)[missing_mask.nonzero()[\u001b[32m0\u001b[39m]].unique())\n\u001b[32m   6264\u001b[39m     \u001b[38;5;28;01mraise\u001b[39;00m \u001b[38;5;167;01mKeyError\u001b[39;00m(\u001b[33mf\u001b[39m\u001b[33m\"\u001b[39m\u001b[38;5;132;01m{\u001b[39;00mnot_found\u001b[38;5;132;01m}\u001b[39;00m\u001b[33m not in index\u001b[39m\u001b[33m\"\u001b[39m)\n",
      "\u001b[31mKeyError\u001b[39m: \"None of [Index(['project_id', 'team.members'], dtype='object')] are in the [columns]\""
     ]
    }
   ],
   "source": [
    "teams = df[['project_id', 'team.members']].explode('team.members')\n",
    "teams = pd.concat([\n",
    "    teams.drop(columns='team.members'), teams['team.members'].apply(pd.Series)],\n",
    "    axis=1\n",
    ")\n",
    "df_pm = pd.DataFrame({'project_id': df['project_id'],'name': df['team.project_manager'],'role': 'project_manager'})\n",
    "teams = pd.concat([teams, df_pm], ignore_index=True)\n",
    " "
   ]
  },
  {
   "cell_type": "code",
   "execution_count": null,
   "id": "b261b64a",
   "metadata": {},
   "outputs": [],
   "source": [
    "rows = []\n",
    "for _, row in df.iterrows():\n",
    "    project_id = row[\"project_id\"]\n",
    "    team = row.get(\"team\", {})\n",
    "      \n",
    "      # Add project manager\n",
    "    pm = team.get(\"project_manager\")\n",
    "    if pm:\n",
    "        rows.append({\n",
    "            \"project_id\": project_id,\n",
    "            \"member_name\": pm,\n",
    "            \"role\": \"Project Manager\"\n",
    "          })\n",
    "      # Add team members\n",
    "    members = team.get(\"members\", [])\n",
    "    for member in members:\n",
    "        rows.append({\n",
    "            \"project_id\": project_id,\n",
    "            \"member_name\": member.get(\"name\"),\n",
    "            \"role\": member.get(\"role\")\n",
    "        })\n",
    "team_df = pd.DataFrame(rows)"
   ]
  },
  {
   "cell_type": "code",
   "execution_count": null,
   "id": "156b46ea",
   "metadata": {},
   "outputs": [],
   "source": [
    "team_df"
   ]
  },
  {
   "cell_type": "code",
   "execution_count": null,
   "id": "0940d02f",
   "metadata": {},
   "outputs": [],
   "source": [
    "team_df['member_id']=['MEM'+str(i+1).zfill(3) for i in range(len(team_df))]"
   ]
  },
  {
   "cell_type": "code",
   "execution_count": 58,
   "id": "62c191ce",
   "metadata": {},
   "outputs": [
    {
     "data": {
      "text/html": [
       "<div>\n",
       "<style scoped>\n",
       "    .dataframe tbody tr th:only-of-type {\n",
       "        vertical-align: middle;\n",
       "    }\n",
       "\n",
       "    .dataframe tbody tr th {\n",
       "        vertical-align: top;\n",
       "    }\n",
       "\n",
       "    .dataframe thead th {\n",
       "        text-align: right;\n",
       "    }\n",
       "</style>\n",
       "<table border=\"1\" class=\"dataframe\">\n",
       "  <thead>\n",
       "    <tr style=\"text-align: right;\">\n",
       "      <th></th>\n",
       "      <th>project_id</th>\n",
       "      <th>member_id</th>\n",
       "      <th>member_name</th>\n",
       "      <th>role</th>\n",
       "    </tr>\n",
       "  </thead>\n",
       "  <tbody>\n",
       "    <tr>\n",
       "      <th>0</th>\n",
       "      <td>HCL001</td>\n",
       "      <td>MEM001</td>\n",
       "      <td>Amit Sinha</td>\n",
       "      <td>Project Manager</td>\n",
       "    </tr>\n",
       "    <tr>\n",
       "      <th>1</th>\n",
       "      <td>HCL001</td>\n",
       "      <td>MEM002</td>\n",
       "      <td>Riya Mehta</td>\n",
       "      <td>DevOps Engineer</td>\n",
       "    </tr>\n",
       "    <tr>\n",
       "      <th>2</th>\n",
       "      <td>HCL001</td>\n",
       "      <td>MEM003</td>\n",
       "      <td>Sagar Patel</td>\n",
       "      <td>Cloud Architect</td>\n",
       "    </tr>\n",
       "    <tr>\n",
       "      <th>3</th>\n",
       "      <td>HCL002</td>\n",
       "      <td>MEM004</td>\n",
       "      <td>Pooja Reddy</td>\n",
       "      <td>Project Manager</td>\n",
       "    </tr>\n",
       "    <tr>\n",
       "      <th>4</th>\n",
       "      <td>HCL002</td>\n",
       "      <td>MEM005</td>\n",
       "      <td>Anil Kumar</td>\n",
       "      <td>Data Engineer</td>\n",
       "    </tr>\n",
       "    <tr>\n",
       "      <th>5</th>\n",
       "      <td>HCL002</td>\n",
       "      <td>MEM006</td>\n",
       "      <td>Nidhi Das</td>\n",
       "      <td>Business Analyst</td>\n",
       "    </tr>\n",
       "  </tbody>\n",
       "</table>\n",
       "</div>"
      ],
      "text/plain": [
       "  project_id member_id  member_name              role\n",
       "0     HCL001    MEM001   Amit Sinha   Project Manager\n",
       "1     HCL001    MEM002   Riya Mehta   DevOps Engineer\n",
       "2     HCL001    MEM003  Sagar Patel   Cloud Architect\n",
       "3     HCL002    MEM004  Pooja Reddy   Project Manager\n",
       "4     HCL002    MEM005   Anil Kumar     Data Engineer\n",
       "5     HCL002    MEM006    Nidhi Das  Business Analyst"
      ]
     },
     "execution_count": 58,
     "metadata": {},
     "output_type": "execute_result"
    }
   ],
   "source": [
    "team_df"
   ]
  },
  {
   "cell_type": "code",
   "execution_count": null,
   "id": "3c9ee24e",
   "metadata": {},
   "outputs": [],
   "source": [
    "team_df=team_df[['project_id','member_id','member_name','role']]"
   ]
  },
  {
   "cell_type": "code",
   "execution_count": null,
   "id": "6796db1b",
   "metadata": {},
   "outputs": [],
   "source": [
    "team_df"
   ]
  },
  {
   "cell_type": "code",
   "execution_count": null,
   "id": "90cca766",
   "metadata": {},
   "outputs": [],
   "source": [
    "from datetime import datetime"
   ]
  },
  {
   "cell_type": "code",
   "execution_count": null,
   "id": "d0eda125",
   "metadata": {},
   "outputs": [],
   "source": [
    "milestone_rows=[]\n",
    "\n",
    "for i,row in df.iterrows():\n",
    "    project_id=row['project_id']\n",
    "    milestones=row.get('milestones',[])\n",
    "\n",
    "    for milestone in milestones:\n",
    "        milestone_rows.append({\n",
    "            'project_id':project_id,\n",
    "            'milestone_name':milestone.get('name'),\n",
    "            'due_date':pd.to_datetime(milestone.get(\"due_date\"),errors='coerce')\n",
    "        })\n",
    "\n",
    "milestone_df=pd.DataFrame(milestone_rows)"
   ]
  },
  {
   "cell_type": "code",
   "execution_count": null,
   "id": "a548e9b6",
   "metadata": {},
   "outputs": [],
   "source": [
    "milestone_df"
   ]
  },
  {
   "cell_type": "code",
   "execution_count": null,
   "id": "da154de7",
   "metadata": {},
   "outputs": [],
   "source": [
    "milestone_df['milestone_id']=['MIL'+str(i+1).zfill(3) for i in range(len(milestone_df))]"
   ]
  },
  {
   "cell_type": "code",
   "execution_count": null,
   "id": "24a755d0",
   "metadata": {},
   "outputs": [],
   "source": [
    "milestone_df=milestone_df[['project_id','milestone_id','milestone_name','due_date']]\n",
    "milestone_df"
   ]
  },
  {
   "cell_type": "code",
   "execution_count": 71,
   "id": "c56ea2e7",
   "metadata": {},
   "outputs": [],
   "source": [
    "# Step 1: Get basic fact table with project and client\n",
    "fact_df = project_df.merge(client_df[['project_id', 'client_id']], on='project_id', how='left')\n",
    "\n",
    "# Step 2: Add total team members per project\n",
    "team_counts = team_df.groupby('project_id').size().reset_index(name='total_members')\n",
    "fact_df = fact_df.merge(team_counts, on='project_id', how='left')\n",
    "\n",
    "# Step 3: Add total milestones per project\n",
    "milestone_counts = milestone_df.groupby('project_id').size().reset_index(name='total_milestones')\n",
    "fact_df = fact_df.merge(milestone_counts, on='project_id', how='left')\n",
    "\n",
    "# Step 4: Add number of technologies per project\n",
    "fact_df['technologies_count'] = project_df['technologies'].apply(lambda x: len(x) if isinstance(x, list) else 0)\n",
    "\n",
    "# Step 5: Add status from project_df (already included if you merged project_df at the start)\n",
    "fact_df = fact_df[['project_id', 'client_id', 'status', 'total_members', 'total_milestones', 'technologies_count']]\n",
    "fact_df = fact_df.rename(columns={\"status\": \"project_status\"})\n"
   ]
  },
  {
   "cell_type": "code",
   "execution_count": 72,
   "id": "ec95d910",
   "metadata": {},
   "outputs": [
    {
     "data": {
      "text/html": [
       "<div>\n",
       "<style scoped>\n",
       "    .dataframe tbody tr th:only-of-type {\n",
       "        vertical-align: middle;\n",
       "    }\n",
       "\n",
       "    .dataframe tbody tr th {\n",
       "        vertical-align: top;\n",
       "    }\n",
       "\n",
       "    .dataframe thead th {\n",
       "        text-align: right;\n",
       "    }\n",
       "</style>\n",
       "<table border=\"1\" class=\"dataframe\">\n",
       "  <thead>\n",
       "    <tr style=\"text-align: right;\">\n",
       "      <th></th>\n",
       "      <th>project_id</th>\n",
       "      <th>client_id</th>\n",
       "      <th>project_status</th>\n",
       "      <th>total_members</th>\n",
       "      <th>total_milestones</th>\n",
       "      <th>technologies_count</th>\n",
       "    </tr>\n",
       "  </thead>\n",
       "  <tbody>\n",
       "    <tr>\n",
       "      <th>0</th>\n",
       "      <td>HCL001</td>\n",
       "      <td>CLI001</td>\n",
       "      <td>In Progress</td>\n",
       "      <td>3</td>\n",
       "      <td>2</td>\n",
       "      <td>3</td>\n",
       "    </tr>\n",
       "    <tr>\n",
       "      <th>1</th>\n",
       "      <td>HCL002</td>\n",
       "      <td>CLI002</td>\n",
       "      <td>Planned</td>\n",
       "      <td>3</td>\n",
       "      <td>2</td>\n",
       "      <td>3</td>\n",
       "    </tr>\n",
       "  </tbody>\n",
       "</table>\n",
       "</div>"
      ],
      "text/plain": [
       "  project_id client_id project_status  total_members  total_milestones  \\\n",
       "0     HCL001    CLI001    In Progress              3                 2   \n",
       "1     HCL002    CLI002        Planned              3                 2   \n",
       "\n",
       "   technologies_count  \n",
       "0                   3  \n",
       "1                   3  "
      ]
     },
     "execution_count": 72,
     "metadata": {},
     "output_type": "execute_result"
    }
   ],
   "source": [
    "fact_df"
   ]
  },
  {
   "cell_type": "code",
   "execution_count": null,
   "id": "61ea0168",
   "metadata": {},
   "outputs": [],
   "source": []
  }
 ],
 "metadata": {
  "kernelspec": {
   "display_name": "Python 3",
   "language": "python",
   "name": "python3"
  },
  "language_info": {
   "codemirror_mode": {
    "name": "ipython",
    "version": 3
   },
   "file_extension": ".py",
   "mimetype": "text/x-python",
   "name": "python",
   "nbconvert_exporter": "python",
   "pygments_lexer": "ipython3",
   "version": "3.11.9"
  }
 },
 "nbformat": 4,
 "nbformat_minor": 5
}
